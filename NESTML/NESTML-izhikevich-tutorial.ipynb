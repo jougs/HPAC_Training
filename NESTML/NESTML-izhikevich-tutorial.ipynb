{
 "cells": [
  {
   "cell_type": "markdown",
   "metadata": {},
   "source": [
    "Introduction\n",
    "------------\n",
    "\n",
    "The aim of this exercise is to obtain familiarity with NESTML by completing a partial model of the Izhikevich neuron [1]. In the file `izhikevich_task.nestml`, a subset of the parameters, state equations and update block is implemented. Your task is to complete the model code. For reference, the solution is included as `izhikevich_solution.nestml`.\n",
    "\n",
    "\n",
    "NESTML code generation\n",
    "----------------------\n",
    "\n",
    "Our NESTML model is stored at `HPAC_Training/NESTML/izhikevich_solution.nestml`. To generate code, build the module and load the module into the NEST Simulator:\n"
   ]
  },
  {
   "cell_type": "code",
   "execution_count": null,
   "metadata": {},
   "outputs": [],
   "source": [
    "from pynestml.frontend.pynestml_frontend import to_nest, install_nest\n",
    "import os\n",
    "\n",
    "home_dir = os.path.expanduser('~')\n",
    "nestml_model_fn = os.path.join(home_dir, \"HPAC_Training/NESTML/izhikevich_solution.nestml\")\n",
    "target_path = os.path.join(home_dir, \"nestml-tutorial-generated\")\n",
    "\n",
    "to_nest(input_path=nestml_model_fn, target_path=target_path, logging_level=\"INFO\")"
   ]
  },
  {
   "cell_type": "markdown",
   "metadata": {},
   "source": [
    "Building the NESTML models module\n",
    "---------------------------------\n",
    "\n",
    "Now, we compile the generated C++ code into a dynamic module (`*.so`) that will be loaded into NEST Simulator.\n",
    "\n",
    "Note that on this shared system, we do not have access rights to install the module into the system-wide NEST installation directory. This is no problem, as we have already added our local directory (`$HOME/nestml-tutorial-generated`) to the `LD_LIBRARY_PATH` environment variable; NEST simulator will search this directory for `*.so` files.\n",
    "\n",
    "The error message \"Something went wrong in 'make install'` can thus safely be ignored."
   ]
  },
  {
   "cell_type": "code",
   "execution_count": null,
   "metadata": {},
   "outputs": [],
   "source": [
    "install_nest(target_path, \"/scratch/snx3000/bp000193/nest-simulator-2.18.0\")"
   ]
  },
  {
   "cell_type": "markdown",
   "metadata": {},
   "source": [
    "Instantiate model in NEST Simulator and run\n",
    "-------------------------------------------\n",
    "\n",
    "In the same Python session, continue entering the following code. This performs the instantiation of the model (`nest.Create(\"izhikevich_tutorial\")`), injects a constant current and runs the simulation for 250 ms.\n",
    "\n"
   ]
  },
  {
   "cell_type": "code",
   "execution_count": null,
   "metadata": {},
   "outputs": [],
   "source": [
    "%matplotlib inline\n",
    "import nest\n",
    "import matplotlib.pyplot as plt\n",
    "\n",
    "nest.set_verbosity(\"M_WARNING\")\n",
    "nest.ResetKernel()\n",
    "nest.Install(\"nestmlmodule\")\n",
    "\n",
    "neuron = nest.Create(\"izhikevich_tutorial\")\n",
    "voltmeter = nest.Create(\"voltmeter\")\n",
    "\n",
    "nest.SetStatus(voltmeter, [{\"withgid\": True, \"record_from\" : [nest.GetStatus(neuron)[0][\"recordables\"][1]]}])\n",
    "nest.Connect(voltmeter, neuron)\n",
    "\n",
    "cgs = nest.Create('dc_generator')\n",
    "nest.SetStatus(cgs, \"amplitude\", 25.)\n",
    "nest.Connect(cgs, neuron)\n",
    "\n",
    "nest.Simulate(250.)\n",
    "\n",
    "plt.plot(nest.GetStatus(voltmeter)[0][\"events\"][\"times\"], nest.GetStatus(voltmeter)[0][\"events\"][\"v\"])\n",
    "plt.show()"
   ]
  },
  {
   "cell_type": "markdown",
   "metadata": {},
   "source": [
    "References\n",
    "----------\n",
    "\n",
    "[1] Eugene M. Izhikevich, \"Simple Model of Spiking Neurons\", IEEE Transactions on Neural Networks, Vol. 14, No. 6, November 2003"
   ]
  }
 ],
 "metadata": {
  "kernelspec": {
   "display_name": "Python 3",
   "language": "python",
   "name": "python3"
  },
  "language_info": {
   "codemirror_mode": {
    "name": "ipython",
    "version": 3
   },
   "file_extension": ".py",
   "mimetype": "text/x-python",
   "name": "python",
   "nbconvert_exporter": "python",
   "pygments_lexer": "ipython3",
   "version": "3.6.5"
  }
 },
 "nbformat": 4,
 "nbformat_minor": 4
}
