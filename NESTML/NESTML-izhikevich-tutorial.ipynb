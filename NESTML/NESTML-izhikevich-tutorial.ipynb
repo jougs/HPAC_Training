{
 "cells": [
  {
   "cell_type": "markdown",
   "metadata": {},
   "source": [
    "Introduction\n",
    "------------\n",
    "\n",
    "The aim of this exercise is to obtain familiarity with NESTML by completing a partial model of the Izhikevich neuron [1]. In the file `izhikevich_task.nestml`, a subset of the parameters, state equations and update block is implemented. Your task is to complete the model code. For reference, the solution is included as `izhikevich_solution.nestml`.\n",
    "\n",
    "\n",
    "NESTML code generation\n",
    "----------------------\n",
    "\n",
    "Our NESTML model is stored at `HPAC_Training/NESTML/izhikevich_solution.nestml`. To generate code, build the module and load the module into the NEST Simulator:\n"
   ]
  },
  {
   "cell_type": "code",
   "execution_count": 9,
   "metadata": {},
   "outputs": [
    {
     "name": "stdout",
     "output_type": "stream",
     "text": [
      "[1,GLOBAL, INFO]: No module name specified; the generated module will be named \"nestmlmodule\"\n",
      "[2,GLOBAL, INFO]: Start processing '/users/course88/HPAC_Training/NESTML/izhikevich_solution.nestml'!\n",
      "[3,izhikevich_tutorial, INFO, [1:0;42:0]]: Start building symbol table!\n",
      "[4,izhikevich_tutorial, WARNING, [5:4;5:13]]: Variable 'u' has the same name as a physical unit!\n",
      "[5,izhikevich_tutorial, WARNING, [14:4;14:13]]: Variable 'a' has the same name as a physical unit!\n",
      "[6,izhikevich_tutorial, WARNING, [15:4;15:13]]: Variable 'b' has the same name as a physical unit!\n",
      "[7,izhikevich_tutorial, WARNING, [17:4;17:13]]: Variable 'd' has the same name as a physical unit!\n",
      "[8,izhikevich_tutorial, INFO]: New type registered 'mV / s'!\n",
      "[9,izhikevich_tutorial, INFO]: New type registered 'mV2'!\n",
      "[10,izhikevich_tutorial, INFO]: New type registered 'GOhm pA'!\n",
      "[11,izhikevich_tutorial, WARNING, [9:10;9:49]]: Non-matching unit types at mV +/- GOhm pA! Implicitly replaced by mV +/- 1.0 * GOhm pA.\n",
      "[12,izhikevich_tutorial, INFO]: New type registered 'mV / ms'!\n",
      "[13,izhikevich_tutorial, INFO]: New type registered 'ms mV'!\n",
      "[14,izhikevich_tutorial, INFO]: New type registered '1 / ms'!\n",
      "[15,izhikevich_tutorial, INFO, [5:13;5:13]]: Implicit casting from (compatible) type 'integer' to 'real'.\n",
      "[16,izhikevich_tutorial, INFO, [31:9;31:9]]: Implicit casting from (compatible) type 'mV buffer' to 'mV'.\n",
      "[17,izhikevich_tutorial, INFO, [4:4;4:15]]: Ode of 'v' updated!\n",
      "[18,izhikevich_tutorial, INFO, [5:4;5:13]]: Ode of 'u' updated!\n",
      "[19,GLOBAL, INFO]: Analysing/transforming neuron 'izhikevich_tutorial'\n",
      "[20,izhikevich_tutorial, INFO, [1:0;42:0]]: Starts processing of the neuron 'izhikevich_tutorial'\n",
      "[21,izhikevich_tutorial, INFO, [1:0;42:0]]: The neuron 'izhikevich_tutorial' will be solved numerically with GSL solver without modification!\n",
      "[22,izhikevich_tutorial, INFO, [1:0;42:0]]: Start building symbol table!\n",
      "[23,izhikevich_tutorial, WARNING, [5:4;5:13]]: Variable 'u' has the same name as a physical unit!\n",
      "[24,izhikevich_tutorial, WARNING, [14:4;14:13]]: Variable 'a' has the same name as a physical unit!\n",
      "[25,izhikevich_tutorial, WARNING, [15:4;15:13]]: Variable 'b' has the same name as a physical unit!\n",
      "[26,izhikevich_tutorial, WARNING, [17:4;17:13]]: Variable 'd' has the same name as a physical unit!\n",
      "[27,izhikevich_tutorial, INFO, [5:13;5:13]]: Implicit casting from (compatible) type 'integer' to 'real'.\n",
      "[28,izhikevich_tutorial, INFO, [31:9;31:9]]: Implicit casting from (compatible) type 'mV buffer' to 'mV'.\n",
      "[29,izhikevich_tutorial, INFO, [4:4;4:15]]: Ode of 'v' updated!\n",
      "[30,izhikevich_tutorial, INFO, [5:4;5:13]]: Ode of 'u' updated!\n",
      "[31,izhikevich_tutorial, INFO, [1:0;42:0]]: Successfully generated NEST code for the neuron: 'izhikevich_tutorial' in: '/users/course88/nestml-tutorial-generated' !\n",
      "[32,GLOBAL, INFO]: Successfully generated NEST module code in '/users/course88/nestml-tutorial-generated' !\n"
     ]
    }
   ],
   "source": [
    "from pynestml.frontend.pynestml_frontend import to_nest, install_nest\n",
    "import os\n",
    "\n",
    "home_dir = os.path.expanduser('~')\n",
    "nestml_model_fn = os.path.join(home_dir, \"HPAC_Training/NESTML/izhikevich_solution.nestml\")\n",
    "target_path = os.path.join(home_dir, \"nestml-tutorial-generated\")\n",
    "\n",
    "to_nest(input_path=nestml_model_fn, target_path=target_path, logging_level=\"INFO\")"
   ]
  },
  {
   "cell_type": "markdown",
   "metadata": {},
   "source": [
    "Building the NESTML models module\n",
    "---------------------------------\n",
    "\n",
    "Now, we compile the generated C++ code into a dynamic module (`*.so`) that will be loaded into NEST Simulator.\n",
    "\n",
    "Note that on this shared system, we do not have access rights to install the module into the system-wide NEST installation directory. This is no problem, as we have already added our local directory (`$HOME/nestml-tutorial-generated`) to the `LD_LIBRARY_PATH` environment variable; NEST simulator will search this directory for `*.so` files.\n",
    "\n",
    "The error message \"Something went wrong in 'make install'` can thus safely be ignored."
   ]
  },
  {
   "cell_type": "code",
   "execution_count": 10,
   "metadata": {},
   "outputs": [
    {
     "name": "stdout",
     "output_type": "stream",
     "text": [
      "PyNestML: Something went wrong in 'make install', see error above!\n",
      "abort installation...\n"
     ]
    }
   ],
   "source": [
    "install_nest(target_path, \"/scratch/snx3000/bp000193/nest-simulator-2.18.0\")"
   ]
  },
  {
   "cell_type": "markdown",
   "metadata": {},
   "source": [
    "Instantiate model in NEST Simulator and run\n",
    "-------------------------------------------\n",
    "\n",
    "In the same Python session, continue entering the following code. This performs the instantiation of the model (`nest.Create(\"izhikevich_tutorial\")`), injects a constant current and runs the simulation for 250 ms.\n",
    "\n"
   ]
  },
  {
   "cell_type": "code",
   "execution_count": 12,
   "metadata": {},
   "outputs": [
    {
     "ename": "NESTErrors.DynamicModuleManagementError",
     "evalue": "(\"DynamicModuleManagementError in Install: Module 'nestmlmodule' is loaded already.\", 'DynamicModuleManagementError', <SLILiteral: Install>, \": Module 'nestmlmodule' is loaded already.\")",
     "output_type": "error",
     "traceback": [
      "\u001b[0;31m---------------------------------------------------------------------------\u001b[0m",
      "\u001b[0;31mNESTErrors.DynamicModuleManagementError\u001b[0m   Traceback (most recent call last)",
      "\u001b[0;32m<ipython-input-12-4d0bfb4be5f8>\u001b[0m in \u001b[0;36m<module>\u001b[0;34m\u001b[0m\n\u001b[1;32m      5\u001b[0m \u001b[0mnest\u001b[0m\u001b[0;34m.\u001b[0m\u001b[0mset_verbosity\u001b[0m\u001b[0;34m(\u001b[0m\u001b[0;34m\"M_WARNING\"\u001b[0m\u001b[0;34m)\u001b[0m\u001b[0;34m\u001b[0m\u001b[0m\n\u001b[1;32m      6\u001b[0m \u001b[0mnest\u001b[0m\u001b[0;34m.\u001b[0m\u001b[0mResetKernel\u001b[0m\u001b[0;34m(\u001b[0m\u001b[0;34m)\u001b[0m\u001b[0;34m\u001b[0m\u001b[0m\n\u001b[0;32m----> 7\u001b[0;31m \u001b[0mnest\u001b[0m\u001b[0;34m.\u001b[0m\u001b[0mInstall\u001b[0m\u001b[0;34m(\u001b[0m\u001b[0;34m\"nestmlmodule\"\u001b[0m\u001b[0;34m)\u001b[0m\u001b[0;34m\u001b[0m\u001b[0m\n\u001b[0m\u001b[1;32m      8\u001b[0m \u001b[0;34m\u001b[0m\u001b[0m\n\u001b[1;32m      9\u001b[0m \u001b[0mneuron\u001b[0m \u001b[0;34m=\u001b[0m \u001b[0mnest\u001b[0m\u001b[0;34m.\u001b[0m\u001b[0mCreate\u001b[0m\u001b[0;34m(\u001b[0m\u001b[0;34m\"izhikevich_tutorial\"\u001b[0m\u001b[0;34m)\u001b[0m\u001b[0;34m\u001b[0m\u001b[0m\n",
      "\u001b[0;32m/scratch/snx3000/bp000193/nest-simulator-2.18.0/lib64/python3.6/site-packages/nest/ll_api.py\u001b[0m in \u001b[0;36mstack_checker_func\u001b[0;34m(*args, **kwargs)\u001b[0m\n\u001b[1;32m    244\u001b[0m     \u001b[0;32mdef\u001b[0m \u001b[0mstack_checker_func\u001b[0m\u001b[0;34m(\u001b[0m\u001b[0;34m*\u001b[0m\u001b[0margs\u001b[0m\u001b[0;34m,\u001b[0m \u001b[0;34m**\u001b[0m\u001b[0mkwargs\u001b[0m\u001b[0;34m)\u001b[0m\u001b[0;34m:\u001b[0m\u001b[0;34m\u001b[0m\u001b[0m\n\u001b[1;32m    245\u001b[0m         \u001b[0;32mif\u001b[0m \u001b[0;32mnot\u001b[0m \u001b[0mget_debug\u001b[0m\u001b[0;34m(\u001b[0m\u001b[0;34m)\u001b[0m\u001b[0;34m:\u001b[0m\u001b[0;34m\u001b[0m\u001b[0m\n\u001b[0;32m--> 246\u001b[0;31m             \u001b[0;32mreturn\u001b[0m \u001b[0mf\u001b[0m\u001b[0;34m(\u001b[0m\u001b[0;34m*\u001b[0m\u001b[0margs\u001b[0m\u001b[0;34m,\u001b[0m \u001b[0;34m**\u001b[0m\u001b[0mkwargs\u001b[0m\u001b[0;34m)\u001b[0m\u001b[0;34m\u001b[0m\u001b[0m\n\u001b[0m\u001b[1;32m    247\u001b[0m         \u001b[0;32melse\u001b[0m\u001b[0;34m:\u001b[0m\u001b[0;34m\u001b[0m\u001b[0m\n\u001b[1;32m    248\u001b[0m             \u001b[0msr\u001b[0m\u001b[0;34m(\u001b[0m\u001b[0;34m'count'\u001b[0m\u001b[0;34m)\u001b[0m\u001b[0;34m\u001b[0m\u001b[0m\n",
      "\u001b[0;32m/scratch/snx3000/bp000193/nest-simulator-2.18.0/lib64/python3.6/site-packages/nest/lib/hl_api_simulation.py\u001b[0m in \u001b[0;36mInstall\u001b[0;34m(module_name)\u001b[0m\n\u001b[1;32m    320\u001b[0m     \"\"\"\n\u001b[1;32m    321\u001b[0m \u001b[0;34m\u001b[0m\u001b[0m\n\u001b[0;32m--> 322\u001b[0;31m     \u001b[0;32mreturn\u001b[0m \u001b[0msr\u001b[0m\u001b[0;34m(\u001b[0m\u001b[0;34m\"(%s) Install\"\u001b[0m \u001b[0;34m%\u001b[0m \u001b[0mmodule_name\u001b[0m\u001b[0;34m)\u001b[0m\u001b[0;34m\u001b[0m\u001b[0m\n\u001b[0m\u001b[1;32m    323\u001b[0m \u001b[0;34m\u001b[0m\u001b[0m\n\u001b[1;32m    324\u001b[0m \u001b[0;34m\u001b[0m\u001b[0m\n",
      "\u001b[0;32m/scratch/snx3000/bp000193/nest-simulator-2.18.0/lib64/python3.6/site-packages/nest/ll_api.py\u001b[0m in \u001b[0;36mcatching_sli_run\u001b[0;34m(cmd)\u001b[0m\n\u001b[1;32m    130\u001b[0m \u001b[0;34m\u001b[0m\u001b[0m\n\u001b[1;32m    131\u001b[0m         \u001b[0mexceptionCls\u001b[0m \u001b[0;34m=\u001b[0m \u001b[0mgetattr\u001b[0m\u001b[0;34m(\u001b[0m\u001b[0mkernel\u001b[0m\u001b[0;34m.\u001b[0m\u001b[0mNESTErrors\u001b[0m\u001b[0;34m,\u001b[0m \u001b[0merrorname\u001b[0m\u001b[0;34m)\u001b[0m\u001b[0;34m\u001b[0m\u001b[0m\n\u001b[0;32m--> 132\u001b[0;31m         \u001b[0;32mraise\u001b[0m \u001b[0mexceptionCls\u001b[0m\u001b[0;34m(\u001b[0m\u001b[0mcommandname\u001b[0m\u001b[0;34m,\u001b[0m \u001b[0mmessage\u001b[0m\u001b[0;34m)\u001b[0m\u001b[0;34m\u001b[0m\u001b[0m\n\u001b[0m\u001b[1;32m    133\u001b[0m \u001b[0;34m\u001b[0m\u001b[0m\n\u001b[1;32m    134\u001b[0m \u001b[0msli_run\u001b[0m \u001b[0;34m=\u001b[0m \u001b[0msr\u001b[0m \u001b[0;34m=\u001b[0m \u001b[0mcatching_sli_run\u001b[0m\u001b[0;34m\u001b[0m\u001b[0m\n",
      "\u001b[0;31mNESTErrors.DynamicModuleManagementError\u001b[0m: (\"DynamicModuleManagementError in Install: Module 'nestmlmodule' is loaded already.\", 'DynamicModuleManagementError', <SLILiteral: Install>, \": Module 'nestmlmodule' is loaded already.\")"
     ]
    }
   ],
   "source": [
    "%matplotlib inline\n",
    "import nest\n",
    "import matplotlib.pyplot as plt\n",
    "\n",
    "nest.set_verbosity(\"M_WARNING\")\n",
    "nest.ResetKernel()\n",
    "nest.Install(\"nestmlmodule\")\n",
    "\n",
    "neuron = nest.Create(\"izhikevich_tutorial\")\n",
    "voltmeter = nest.Create(\"voltmeter\")\n",
    "\n",
    "nest.SetStatus(voltmeter, [{\"withgid\": True, \"record_from\" : [nest.GetStatus(neuron)[0][\"recordables\"][1]]}])\n",
    "nest.Connect(voltmeter, neuron)\n",
    "\n",
    "cgs = nest.Create('dc_generator')\n",
    "nest.SetStatus(cgs, \"amplitude\", 25.)\n",
    "nest.Connect(cgs, neuron)\n",
    "\n",
    "nest.Simulate(250.)\n",
    "\n",
    "plt.plot(nest.GetStatus(voltmeter)[0][\"events\"][\"times\"], nest.GetStatus(voltmeter)[0][\"events\"][\"v\"])\n",
    "plt.show()"
   ]
  },
  {
   "cell_type": "markdown",
   "metadata": {},
   "source": [
    "References\n",
    "----------\n",
    "\n",
    "[1] Eugene M. Izhikevich, \"Simple Model of Spiking Neurons\", IEEE Transactions on Neural Networks, Vol. 14, No. 6, November 2003"
   ]
  }
 ],
 "metadata": {
  "kernelspec": {
   "display_name": "Python 3",
   "language": "python",
   "name": "python3"
  },
  "language_info": {
   "codemirror_mode": {
    "name": "ipython",
    "version": 3
   },
   "file_extension": ".py",
   "mimetype": "text/x-python",
   "name": "python",
   "nbconvert_exporter": "python",
   "pygments_lexer": "ipython3",
   "version": "3.6.5"
  }
 },
 "nbformat": 4,
 "nbformat_minor": 4
}
