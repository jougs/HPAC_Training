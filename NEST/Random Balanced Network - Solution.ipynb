{
 "cells": [
  {
   "cell_type": "markdown",
   "metadata": {},
   "source": [
    "# Random balanced network example\n",
    "\n",
    "In the simplest case, a random balanced network consists of two populations of neurons, one of them being excitatory, one being inhibitory. The two populations are connected to themselves and to one another with weights that result in a stable network activity that neither explodes nor dies out. To get the activity of the populations going, each of them gets an  external stimulation. It is interesting to note here that the inhibitory and excitatory neurons themselves do not differ in their parameters, but only in their connection sign and strengths. \n",
    "\n",
    "More information about the theory of the random balanced network model and links to further literature can be found on [Pierre Yger's homepage](http://www.yger.net/the-balanced-network/).\n",
    "\n",
    "The exercise is to fill in the parts below, which are marked \"TODO\" and create a plot of the network's activity, which roughtly corresponds to the Asynchronous Irregular (AI) state, described on [Pierre's homepage](http://www.yger.net/the-balanced-network/).\n",
    "\n",
    "Additional information on the commands and models available in NEST can be found on the [NEST documentation index](http://www.nest-simulator.org/documentation/), especially on the [Command index](http://www.nest-simulator.org/helpindex/). Please note that the commands there use SLI's reverse polish notation syntax, which is similar, but not the ame as the one that needs to be used within Python."
   ]
  },
  {
   "cell_type": "code",
   "execution_count": null,
   "metadata": {},
   "outputs": [],
   "source": [
    "import pylab              # For general plotting\n",
    "import nest               # the NEST simulator module\n",
    "import nest.raster_plot   # NEST's raster_plot module"
   ]
  },
  {
   "cell_type": "code",
   "execution_count": null,
   "metadata": {},
   "outputs": [],
   "source": [
    "# simulation parameters\n",
    "simtime = 1000.           # simulation time (ms)\n",
    "dt = 0.1                  # simulation resolution (ms)"
   ]
  },
  {
   "cell_type": "code",
   "execution_count": null,
   "metadata": {},
   "outputs": [],
   "source": [
    "# network parameters\n",
    "NE = 1000                 # number of excitatory neurons\n",
    "gamma = 0.25              # relative number of inhibitory connections\n",
    "NI = int(gamma * NE)      # number of inhibitory neurons\n",
    "epsilon = 0.1             # connection probability (determines fixed indegree)"
   ]
  },
  {
   "cell_type": "code",
   "execution_count": null,
   "metadata": {},
   "outputs": [],
   "source": [
    "# stimulation parameters\n",
    "nu_ext = 15e3             # external poisson rate"
   ]
  },
  {
   "cell_type": "code",
   "execution_count": null,
   "metadata": {},
   "outputs": [],
   "source": [
    "# neuron paramters\n",
    "neuron_params = {\n",
    "    'C_m':     250.0,     # (pF)\n",
    "    'E_L':       0.0,     # (mV)\n",
    "    'I_e':       0.0,     # (pA)\n",
    "    'V_m':       0.0,     # (mV)\n",
    "    'V_reset':   0.0,     # (mV)\n",
    "    'V_th':     15.0,     # (mV)\n",
    "    't_ref':     2.0,     # (ms)\n",
    "    'tau_m':    10.0,     # (ms)\n",
    "}"
   ]
  },
  {
   "cell_type": "code",
   "execution_count": null,
   "metadata": {},
   "outputs": [],
   "source": [
    "# synapse paramters\n",
    "w =  0.1                  # excitatory synaptic weight (mV)\n",
    "g = -5.0                  # relative inhibitory to excitatory synaptic weight\n",
    "d =  1.5                  # synaptic transmission delay (ms)"
   ]
  },
  {
   "cell_type": "code",
   "execution_count": null,
   "metadata": {},
   "outputs": [],
   "source": [
    "# reset and configure kernel\n",
    "nest.ResetKernel()\n",
    "nest.SetKernelStatus({\n",
    "    'resolution': dt,    # set simulation resolution\n",
    "})\n",
    "\n",
    "# Set default parameters for the neurons and create neuron populations (model: 'iaf_psc_delta')\n",
    "\n",
    "nest.SetDefaults('iaf_psc_delta', neuron_params)\n",
    "neurons_e = nest.Create('iaf_psc_delta', NE)\n",
    "neurons_i = nest.Create('iaf_psc_delta', NI)\n",
    "\n",
    "# Create a poisson generator and set it's 'rate' to nu_ext\n",
    "\n",
    "pg = nest.Create('poisson_generator', params={'rate': nu_ext})\n",
    "\n",
    "# Create spike detectors\n",
    "spikes_e = nest.Create('spike_detector', params={'withtime': True, 'withgid': True})\n",
    "spikes_i = nest.Create('spike_detector', params={'withtime': True, 'withgid': True})\n",
    "\n",
    "# Connect the network\n",
    "\n",
    "# 1. Excitatory connections\n",
    "#    Connect the excitatory population to itself and to the inhibitory population using\n",
    "#    nest.Connect with 'fixed_indegree'. Calculate the indegree from 'NE' and 'epsilon'.\n",
    "\n",
    "conn_spec_exc = {'rule': 'fixed_indegree', 'indegree': int(epsilon * NE)}\n",
    "syn_spec_exc = {'delay': d, 'weight': w}\n",
    "nest.Connect(neurons_e, neurons_e, conn_spec_exc, syn_spec_exc)\n",
    "nest.Connect(neurons_e, neurons_i, conn_spec_exc, syn_spec_exc)\n",
    "\n",
    "# 2. Inhibitory connections\n",
    "#    Connect the inhibitory population to itself and to the excitatory population using\n",
    "#    nest.Connect with 'fixed_indegree'. Calculate the indegree from 'NI' and 'epsilon'.\n",
    "#    The weight has to be determines using \n",
    "\n",
    "conn_spec_inh = {'rule': 'fixed_indegree', 'indegree': int(epsilon * NE)}\n",
    "syn_spec_inh = {'delay': d, 'weight': w*g}\n",
    "nest.Connect(neurons_i, neurons_i, conn_spec_inh, syn_spec_inh)\n",
    "nest.Connect(neurons_i, neurons_e, conn_spec_inh, syn_spec_inh)\n",
    "\n",
    "# Connect poisson generator to both populations using the excitatory connection weight\n",
    "\n",
    "nest.Connect(pg, neurons_e, syn_spec=syn_spec_exc)\n",
    "nest.Connect(pg, neurons_i, syn_spec=syn_spec_exc)\n",
    "\n",
    "# Connect the spike detectors to the corresponding populations\n",
    "\n",
    "nest.Connect(neurons_e, spikes_e)\n",
    "nest.Connect(neurons_i, spikes_i)\n",
    "\n",
    "# Run the simulation\n",
    "\n",
    "nest.Simulate(simtime)\n",
    "\n",
    "# Calculate the combined mean firing rate of the populations\n",
    "events_ex = nest.GetStatus(spikes_e, 'n_events')[0]\n",
    "rate_ex = events_ex / simtime * 1000.0 / NE\n",
    "events_in = nest.GetStatus(spikes_i, 'n_events')[0]\n",
    "rate_in = events_in / simtime * 1000.0 / NI\n",
    "mean_rate = (rate_ex + rate_in) / 2.\n",
    "print('mean firing rate: ', mean_rate)\n",
    "\n",
    "# Create a raster plot of the excitatory spiking activity\n",
    "nest.raster_plot.from_device(spikes_e)\n",
    "pylab.show()"
   ]
  }
 ],
 "metadata": {
  "kernelspec": {
   "display_name": "Python 3",
   "language": "python",
   "name": "python3"
  },
  "language_info": {
   "codemirror_mode": {
    "name": "ipython",
    "version": 3
   },
   "file_extension": ".py",
   "mimetype": "text/x-python",
   "name": "python",
   "nbconvert_exporter": "python",
   "pygments_lexer": "ipython3",
   "version": "3.6.5"
  }
 },
 "nbformat": 4,
 "nbformat_minor": 2
}
